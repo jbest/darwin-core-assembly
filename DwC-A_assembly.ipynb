{
 "cells": [
  {
   "cell_type": "code",
   "execution_count": 87,
   "metadata": {},
   "outputs": [],
   "source": [
    "# Assemble a new Darwin Core Archive using data from another archive\n",
    "# This is based on a DwC-A exported from Symbiota\n",
    "# The process only uses the occurrences.csv and images.csv file for filtering\n",
    "# and creates a copy of the original meta.xml file.\n",
    "# All other files are ignored.\n",
    "# Intended for upload to BioSpex\n",
    "# -----------------\n",
    "# Extract a DwC Archive file and put the contents in a direcotry named dwc_source in same path as this notebook\n",
    "# Create a directory called dwc_out to store output\n",
    "# To create the new DwC archive file, ZIP the contents of dwc_out (not the directory itself)"
   ]
  },
  {
   "cell_type": "code",
   "execution_count": 88,
   "metadata": {},
   "outputs": [],
   "source": [
    "from shutil import copyfile\n",
    "import pandas as pd\n",
    "pd.set_option('display.max_columns', 10)\n",
    "pd.set_option('display.max_colwidth', -1)"
   ]
  },
  {
   "cell_type": "code",
   "execution_count": 89,
   "metadata": {},
   "outputs": [],
   "source": [
    "# load the occurrences file from a Darwin Core Archive\n",
    "df_occurrences = pd.read_csv(\"dwc_source/occurrences.csv\", low_memory=False)\n",
    "# load the images file from a Darwin Core Archive\n",
    "df_images = pd.read_csv(\"dwc_source/images.csv\", low_memory=False)"
   ]
  },
  {
   "cell_type": "code",
   "execution_count": 90,
   "metadata": {},
   "outputs": [],
   "source": []
  },
  {
   "cell_type": "code",
   "execution_count": 91,
   "metadata": {},
   "outputs": [
    {
     "data": {
      "text/plain": [
       "(158391, 84)"
      ]
     },
     "execution_count": 91,
     "metadata": {},
     "output_type": "execute_result"
    }
   ],
   "source": [
    "# Make sure imported records match what you expect\n",
    "df_occurrences.shape"
   ]
  },
  {
   "cell_type": "code",
   "execution_count": 92,
   "metadata": {},
   "outputs": [
    {
     "data": {
      "text/plain": [
       "(82233, 18)"
      ]
     },
     "execution_count": 92,
     "metadata": {},
     "output_type": "execute_result"
    }
   ],
   "source": [
    "df_images.shape"
   ]
  },
  {
   "cell_type": "code",
   "execution_count": 93,
   "metadata": {},
   "outputs": [],
   "source": [
    "# Filter the occurrence records from Symbiota to include the records you want to import into BioSpex\n",
    "# processingStatus isn't in the Symbiota DwCA which is generated using DwC Publishing, must use backup DwC file instead\n",
    "#df_filtered_occurrences = df_occurrences[df_occurrences['processingStatus'] == 'pending review-nfn']\n",
    "\n",
    "df_filtered_occurrences = df_occurrences[(df_occurrences['stateProvince'] == 'Texas')&(df_occurrences['recordedBy'].isnull())&(df_occurrences['scientificName'].isnull())] "
   ]
  },
  {
   "cell_type": "code",
   "execution_count": 94,
   "metadata": {},
   "outputs": [
    {
     "data": {
      "text/plain": [
       "(27758, 84)"
      ]
     },
     "execution_count": 94,
     "metadata": {},
     "output_type": "execute_result"
    }
   ],
   "source": [
    "# Check to make sure the record count is what you expect\n",
    "df_filtered_occurrences.shape"
   ]
  },
  {
   "cell_type": "code",
   "execution_count": 95,
   "metadata": {},
   "outputs": [],
   "source": [
    "# Filter the image records to only include those with occurrence records \n",
    "df_filtered_images = df_images[df_images['coreid'].isin(df_filtered_occurrences['id'])]"
   ]
  },
  {
   "cell_type": "code",
   "execution_count": 96,
   "metadata": {},
   "outputs": [
    {
     "data": {
      "text/plain": [
       "(27777, 18)"
      ]
     },
     "execution_count": 96,
     "metadata": {},
     "output_type": "execute_result"
    }
   ],
   "source": [
    "df_filtered_images.shape"
   ]
  },
  {
   "cell_type": "code",
   "execution_count": 97,
   "metadata": {},
   "outputs": [],
   "source": [
    "# If you want to exclude any records from the filtered set, load the catalog numbers here\n",
    "df_exclude = pd.read_csv(\"exclude_catalog_numbers.csv\", low_memory=False)"
   ]
  },
  {
   "cell_type": "code",
   "execution_count": 98,
   "metadata": {},
   "outputs": [],
   "source": [
    "# Exclude records (e.g. those already in BioSpex)\n",
    "df_filtered_occurrences_use = df_filtered_occurrences[~df_filtered_occurrences['catalogNumber'].isin(df_exclude['catalog_number'])]"
   ]
  },
  {
   "cell_type": "code",
   "execution_count": 99,
   "metadata": {},
   "outputs": [
    {
     "data": {
      "text/plain": [
       "(21347, 84)"
      ]
     },
     "execution_count": 99,
     "metadata": {},
     "output_type": "execute_result"
    }
   ],
   "source": [
    "df_filtered_occurrences_use.shape"
   ]
  },
  {
   "cell_type": "code",
   "execution_count": 100,
   "metadata": {},
   "outputs": [],
   "source": [
    "# Select only images to be used\n",
    "df_filtered_images_use = df_images[df_images['coreid'].isin(df_filtered_occurrences_use['id'])]"
   ]
  },
  {
   "cell_type": "code",
   "execution_count": 101,
   "metadata": {},
   "outputs": [
    {
     "data": {
      "text/plain": [
       "(21366, 18)"
      ]
     },
     "execution_count": 101,
     "metadata": {},
     "output_type": "execute_result"
    }
   ],
   "source": [
    "df_filtered_images_use.shape"
   ]
  },
  {
   "cell_type": "code",
   "execution_count": 102,
   "metadata": {},
   "outputs": [],
   "source": [
    "# Check for duplicates if you wish\n",
    "#print(df_filtered_images_use[df_filtered_images_use.duplicated(subset='coreid', keep=False)]['accessURI'])"
   ]
  },
  {
   "cell_type": "code",
   "execution_count": 103,
   "metadata": {},
   "outputs": [],
   "source": [
    "# Write occurrences to destination directory\n",
    "df_filtered_occurrences_use.to_csv('dwc_out/occurrences.csv', index = False)"
   ]
  },
  {
   "cell_type": "code",
   "execution_count": 104,
   "metadata": {},
   "outputs": [],
   "source": [
    "# Write images to destination directory\n",
    "df_filtered_images_use.to_csv('dwc_out/images.csv', index = False)"
   ]
  },
  {
   "cell_type": "code",
   "execution_count": 105,
   "metadata": {},
   "outputs": [
    {
     "data": {
      "text/plain": [
       "'dwc_out/meta.xml'"
      ]
     },
     "execution_count": 105,
     "metadata": {},
     "output_type": "execute_result"
    }
   ],
   "source": [
    "# Copy meta.xml to destination directory\n",
    "copyfile('dwc_source/meta.xml', 'dwc_out/meta.xml')"
   ]
  },
  {
   "cell_type": "code",
   "execution_count": null,
   "metadata": {},
   "outputs": [],
   "source": []
  }
 ],
 "metadata": {
  "kernelspec": {
   "display_name": "Python 3",
   "language": "python",
   "name": "python3"
  },
  "language_info": {
   "codemirror_mode": {
    "name": "ipython",
    "version": 3
   },
   "file_extension": ".py",
   "mimetype": "text/x-python",
   "name": "python",
   "nbconvert_exporter": "python",
   "pygments_lexer": "ipython3",
   "version": "3.6.4"
  }
 },
 "nbformat": 4,
 "nbformat_minor": 2
}
