{
 "cells": [
  {
   "cell_type": "code",
   "execution_count": null,
   "metadata": {},
   "outputs": [],
   "source": [
    "# Assemble a new Darwin Core Archive using data from another archive\n",
    "# This is based on a DwC-A exported from Symbiota\n",
    "# The process only uses the occurrences.csv and images.csv file for filtering\n",
    "# and creates a copy of the original meta.xml file.\n",
    "# All other files are ignored.\n",
    "# Intended for upload to BioSpex\n",
    "# -----------------\n",
    "# Extract a DwC Archive file and put the contents in a directory named dwc_source in same path as this notebook\n",
    "# Create a directory called dwc_out to store output\n",
    "# To create the new DwC archive file, ZIP the contents of dwc_out (not the directory itself)"
   ]
  },
  {
   "cell_type": "code",
   "execution_count": null,
   "metadata": {},
   "outputs": [],
   "source": [
    "from shutil import copyfile\n",
    "import pandas as pd\n",
    "pd.set_option('display.max_columns', 10)\n",
    "pd.set_option('display.max_colwidth', -1)"
   ]
  },
  {
   "cell_type": "code",
   "execution_count": null,
   "metadata": {},
   "outputs": [],
   "source": [
    "# load the occurrences file from a Darwin Core Archive\n",
    "df_occurrences = pd.read_csv(\"dwc_source/occurrences.csv\", low_memory=False)\n",
    "# load the images file from a Darwin Core Archive\n",
    "df_images = pd.read_csv(\"dwc_source/images.csv\", low_memory=False)"
   ]
  },
  {
   "cell_type": "code",
   "execution_count": null,
   "metadata": {},
   "outputs": [],
   "source": [
    "# Make sure imported records match what you expect\n",
    "df_occurrences.shape"
   ]
  },
  {
   "cell_type": "code",
   "execution_count": null,
   "metadata": {},
   "outputs": [],
   "source": [
    "df_images.shape"
   ]
  },
  {
   "cell_type": "code",
   "execution_count": null,
   "metadata": {},
   "outputs": [],
   "source": [
    "# Filter the occurrence records from Symbiota to include the records you want to import into BioSpex\n",
    "# processingStatus isn't in the Symbiota DwCA which is generated using DwC Publishing, must use backup DwC file instead\n",
    "# Use one or more filters to determine what will be included/excluded from the output DwC-A\n",
    "# Filter to get records that match a particular Symbiota processingStatus:\n",
    "df_filtered_occurrences = df_occurrences[df_occurrences['processingStatus'] == 'pending review-nfn']\n",
    "\n",
    "# Filter to get records that have particular DwC fields unpopulated\n",
    "df_filtered_occurrences = df_occurrences[(df_occurrences['stateProvince'].isnull())&(df_occurrences['recordedBy'].isnull())&(df_occurrences['scientificName'].isnull())] \n",
    "# If not filtering just assign to new DF:\n",
    "#df_filtered_occurrences = df_occurrences"
   ]
  },
  {
   "cell_type": "code",
   "execution_count": null,
   "metadata": {},
   "outputs": [],
   "source": [
    "# Check to make sure the record count is what you expect\n",
    "df_filtered_occurrences.shape"
   ]
  },
  {
   "cell_type": "code",
   "execution_count": null,
   "metadata": {},
   "outputs": [],
   "source": [
    "# Filter the image records to only include those with occurrence records \n",
    "df_filtered_images = df_images[df_images['coreid'].isin(df_filtered_occurrences['id'])]"
   ]
  },
  {
   "cell_type": "code",
   "execution_count": null,
   "metadata": {},
   "outputs": [],
   "source": [
    "df_filtered_images.shape"
   ]
  },
  {
   "cell_type": "code",
   "execution_count": null,
   "metadata": {},
   "outputs": [],
   "source": [
    "# If you want to exclude any records from the filtered set based on catalog numbers, first load the catalog numbers here\n",
    "#df_exclude = pd.read_csv(\"exclude_catalog_numbers.csv\", low_memory=False)"
   ]
  },
  {
   "cell_type": "code",
   "execution_count": null,
   "metadata": {},
   "outputs": [],
   "source": [
    "# Exclude records (e.g. those already in BioSpex or in a separate transcription workflow)\n",
    "#df_filtered_occurrences_use = df_filtered_occurrences[~df_filtered_occurrences['catalogNumber'].isin(df_exclude['catalog_number'])]"
   ]
  },
  {
   "cell_type": "code",
   "execution_count": null,
   "metadata": {},
   "outputs": [],
   "source": [
    "# Specify catalog numbers to include\n",
    "# df_include = pd.read_csv(\"example_include_catnums.csv\", low_memory=False)"
   ]
  },
  {
   "cell_type": "code",
   "execution_count": null,
   "metadata": {},
   "outputs": [],
   "source": [
    "# Include records based on catalog numbers\n",
    "df_filtered_occurrences_use = df_filtered_occurrences[df_filtered_occurrences['catalogNumber'].isin(df_include['catalog_number'])]"
   ]
  },
  {
   "cell_type": "code",
   "execution_count": null,
   "metadata": {},
   "outputs": [],
   "source": [
    "df_filtered_occurrences_use.shape"
   ]
  },
  {
   "cell_type": "code",
   "execution_count": null,
   "metadata": {},
   "outputs": [],
   "source": [
    "# Select only images to be used\n",
    "df_filtered_images_use = df_images[df_images['coreid'].isin(df_filtered_occurrences_use['id'])]"
   ]
  },
  {
   "cell_type": "code",
   "execution_count": null,
   "metadata": {},
   "outputs": [],
   "source": [
    "df_filtered_images_use.shape"
   ]
  },
  {
   "cell_type": "code",
   "execution_count": null,
   "metadata": {},
   "outputs": [],
   "source": [
    "# Check for duplicates if you wish\n",
    "#print(df_filtered_images_use[df_filtered_images_use.duplicated(subset='coreid', keep=False)]['accessURI'])"
   ]
  },
  {
   "cell_type": "code",
   "execution_count": null,
   "metadata": {},
   "outputs": [],
   "source": [
    "# Write occurrences to destination directory\n",
    "df_filtered_occurrences_use.to_csv('dwc_out/occurrences.csv', index = False)"
   ]
  },
  {
   "cell_type": "code",
   "execution_count": null,
   "metadata": {},
   "outputs": [],
   "source": [
    "# Write images to destination directory\n",
    "df_filtered_images_use.to_csv('dwc_out/images.csv', index = False)"
   ]
  },
  {
   "cell_type": "code",
   "execution_count": null,
   "metadata": {},
   "outputs": [],
   "source": [
    "# Copy meta.xml to destination directory\n",
    "copyfile('dwc_source/meta.xml', 'dwc_out/meta.xml')"
   ]
  },
  {
   "cell_type": "code",
   "execution_count": null,
   "metadata": {},
   "outputs": [],
   "source": []
  }
 ],
 "metadata": {
  "kernelspec": {
   "display_name": "Python 3",
   "language": "python",
   "name": "python3"
  },
  "language_info": {
   "codemirror_mode": {
    "name": "ipython",
    "version": 3
   },
   "file_extension": ".py",
   "mimetype": "text/x-python",
   "name": "python",
   "nbconvert_exporter": "python",
   "pygments_lexer": "ipython3",
   "version": "3.6.4"
  }
 },
 "nbformat": 4,
 "nbformat_minor": 2
}
